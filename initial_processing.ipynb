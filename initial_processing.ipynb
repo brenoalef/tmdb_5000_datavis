{
 "cells": [
  {
   "cell_type": "code",
   "execution_count": 25,
   "metadata": {},
   "outputs": [],
   "source": [
    "import numpy as np \n",
    "import pandas as pd \n",
    "import json"
   ]
  },
  {
   "cell_type": "code",
   "execution_count": 26,
   "metadata": {},
   "outputs": [],
   "source": [
    "movies = pd.read_csv(\"./tmdb_5000_movies.csv\")\n",
    "credits = pd.read_csv(\"./tmdb_5000_credits.csv\")\n",
    "\n",
    "df = movies.merge(credits,left_on='id',right_on='movie_id',how='left')\n",
    "\n",
    "df = df[(df['status']=='Released')]\n",
    "\n",
    "df = df[(df['vote_average']!=0)]\n",
    "\n",
    "features_in_json = ['genres', 'keywords', 'production_companies', 'cast', 'crew', 'spoken_languages', 'production_countries']"
   ]
  },
  {
   "cell_type": "code",
   "execution_count": 27,
   "metadata": {},
   "outputs": [
    {
     "data": {
      "text/html": [
       "<div>\n",
       "<style scoped>\n",
       "    .dataframe tbody tr th:only-of-type {\n",
       "        vertical-align: middle;\n",
       "    }\n",
       "\n",
       "    .dataframe tbody tr th {\n",
       "        vertical-align: top;\n",
       "    }\n",
       "\n",
       "    .dataframe thead th {\n",
       "        text-align: right;\n",
       "    }\n",
       "</style>\n",
       "<table border=\"1\" class=\"dataframe\">\n",
       "  <thead>\n",
       "    <tr style=\"text-align: right;\">\n",
       "      <th></th>\n",
       "      <th>budget</th>\n",
       "      <th>genres</th>\n",
       "      <th>homepage</th>\n",
       "      <th>id</th>\n",
       "      <th>keywords</th>\n",
       "      <th>original_language</th>\n",
       "      <th>original_title</th>\n",
       "      <th>overview</th>\n",
       "      <th>popularity</th>\n",
       "      <th>production_companies</th>\n",
       "      <th>...</th>\n",
       "      <th>spoken_languages</th>\n",
       "      <th>status</th>\n",
       "      <th>tagline</th>\n",
       "      <th>title_x</th>\n",
       "      <th>vote_average</th>\n",
       "      <th>vote_count</th>\n",
       "      <th>movie_id</th>\n",
       "      <th>title_y</th>\n",
       "      <th>cast</th>\n",
       "      <th>crew</th>\n",
       "    </tr>\n",
       "  </thead>\n",
       "  <tbody>\n",
       "    <tr>\n",
       "      <th>3519</th>\n",
       "      <td>0</td>\n",
       "      <td>[{\"id\": 35, \"name\": \"Comedy\"}]</td>\n",
       "      <td>NaN</td>\n",
       "      <td>89861</td>\n",
       "      <td>[{\"id\": 131, \"name\": \"italy\"}, {\"id\": 8250, \"n...</td>\n",
       "      <td>en</td>\n",
       "      <td>Stiff Upper Lips</td>\n",
       "      <td>Stiff Upper Lips is a broad parody of British ...</td>\n",
       "      <td>0.356495</td>\n",
       "      <td>[]</td>\n",
       "      <td>...</td>\n",
       "      <td>[{\"iso_639_1\": \"en\", \"name\": \"English\"}]</td>\n",
       "      <td>Released</td>\n",
       "      <td>NaN</td>\n",
       "      <td>Stiff Upper Lips</td>\n",
       "      <td>10.0</td>\n",
       "      <td>1</td>\n",
       "      <td>89861</td>\n",
       "      <td>Stiff Upper Lips</td>\n",
       "      <td>[{\"cast_id\": 11, \"character\": \"Emily\", \"credit...</td>\n",
       "      <td>[{\"credit_id\": \"52fe4a2f9251416c910c5edb\", \"de...</td>\n",
       "    </tr>\n",
       "  </tbody>\n",
       "</table>\n",
       "<p>1 rows × 24 columns</p>\n",
       "</div>"
      ],
      "text/plain": [
       "      budget                          genres homepage     id  \\\n",
       "3519       0  [{\"id\": 35, \"name\": \"Comedy\"}]      NaN  89861   \n",
       "\n",
       "                                               keywords original_language  \\\n",
       "3519  [{\"id\": 131, \"name\": \"italy\"}, {\"id\": 8250, \"n...                en   \n",
       "\n",
       "        original_title                                           overview  \\\n",
       "3519  Stiff Upper Lips  Stiff Upper Lips is a broad parody of British ...   \n",
       "\n",
       "      popularity production_companies  ...  \\\n",
       "3519    0.356495                   []  ...   \n",
       "\n",
       "                              spoken_languages    status  tagline  \\\n",
       "3519  [{\"iso_639_1\": \"en\", \"name\": \"English\"}]  Released      NaN   \n",
       "\n",
       "               title_x vote_average vote_count movie_id           title_y  \\\n",
       "3519  Stiff Upper Lips         10.0          1    89861  Stiff Upper Lips   \n",
       "\n",
       "                                                   cast  \\\n",
       "3519  [{\"cast_id\": 11, \"character\": \"Emily\", \"credit...   \n",
       "\n",
       "                                                   crew  \n",
       "3519  [{\"credit_id\": \"52fe4a2f9251416c910c5edb\", \"de...  \n",
       "\n",
       "[1 rows x 24 columns]"
      ]
     },
     "execution_count": 27,
     "metadata": {},
     "output_type": "execute_result"
    }
   ],
   "source": [
    "df[df[\"id\"] == 89861]"
   ]
  },
  {
   "cell_type": "code",
   "execution_count": 28,
   "metadata": {},
   "outputs": [
    {
     "name": "stdout",
     "output_type": "stream",
     "text": [
      "Current: genres\n",
      "Current: keywords\n",
      "Current: production_companies\n",
      "Current: cast\n",
      "Current: crew\n",
      "Current: spoken_languages\n",
      "Current: production_countries\n"
     ]
    }
   ],
   "source": [
    "for feature_name in features_in_json:\n",
    "    print(\"Current:\", feature_name)\n",
    "    df[feature_name] = df[feature_name].apply(json.loads)\n",
    "    \n",
    "    if feature_name == 'crew':\n",
    "        for index,i in zip(df.index,df[feature_name]):\n",
    "            feature_list_1=[]\n",
    "            limit = min(5, len(i))\n",
    "            for j in range(limit):\n",
    "                feature_list_1.append((i[j]['name']).strip())\n",
    "            df.loc[index,feature_name]= str(feature_list_1)\n",
    "\n",
    "    elif feature_name == 'cast':\n",
    "        for index,i in zip(df.index,df[feature_name]):\n",
    "            feature_list_1=[]\n",
    "            limit = min(5, len(i))\n",
    "            for j in range(limit):\n",
    "                feature_list_1.append((i[j]['name']).strip())\n",
    "            df.loc[index,feature_name]= str(feature_list_1)\n",
    "    else:    \n",
    "        for index,i in zip(df.index,df[feature_name]):\n",
    "            feature_list_1=[]\n",
    "            for j in range(len(i)):\n",
    "                feature_list_1.append((i[j]['name']).strip())\n",
    "            df.loc[index,feature_name]= str(feature_list_1)\n",
    "\n",
    "    df[feature_name] = df[feature_name].str.strip('[]').str.replace(', ',',').str.replace(\"'\",'').str.replace('\"', '')\n",
    "    df[feature_name] = df[feature_name].str.split(',')"
   ]
  },
  {
   "cell_type": "code",
   "execution_count": 29,
   "metadata": {},
   "outputs": [
    {
     "data": {
      "text/plain": [
       "['Georgina Cates',\n",
       " 'Peter Ustinov',\n",
       " 'Prunella Scales',\n",
       " 'Samuel West',\n",
       " 'Sean Pertwee']"
      ]
     },
     "execution_count": 29,
     "metadata": {},
     "output_type": "execute_result"
    }
   ],
   "source": [
    "df[df[\"id\"] == 89861]['cast'].iloc[0]"
   ]
  },
  {
   "cell_type": "code",
   "execution_count": 30,
   "metadata": {},
   "outputs": [
    {
     "name": "stdout",
     "output_type": "stream",
     "text": [
      "Dropping:  7\n"
     ]
    }
   ],
   "source": [
    "to_drop = []\n",
    "for i in df.index:\n",
    "    if (df['production_companies'][i] == [''] and df['cast'][i] == [''] and \n",
    "        df['crew'][i] == ['']):\n",
    "        to_drop.append(i)\n",
    "print('Dropping: ', str(len(to_drop)))\n",
    "df = df.drop(to_drop, axis = 0)"
   ]
  },
  {
   "cell_type": "code",
   "execution_count": 31,
   "metadata": {},
   "outputs": [],
   "source": [
    "features_keep = ['id', 'title', 'tagline', 'runtime', 'original_title', 'original_language', 'overview', 'keywords', 'genres', 'cast', 'crew', 'production_companies', 'production_countries', 'release_date', 'budget', 'revenue', 'vote_count', 'vote_average', 'popularity']\n",
    "\n",
    "df['title'] = df['title_x']\n",
    "df = df[features_keep]"
   ]
  },
  {
   "cell_type": "code",
   "execution_count": 32,
   "metadata": {},
   "outputs": [
    {
     "data": {
      "text/plain": [
       "id                        int64\n",
       "title                    object\n",
       "tagline                  object\n",
       "runtime                 float64\n",
       "original_title           object\n",
       "original_language        object\n",
       "overview                 object\n",
       "keywords                 object\n",
       "genres                   object\n",
       "cast                     object\n",
       "crew                     object\n",
       "production_companies     object\n",
       "production_countries     object\n",
       "release_date             object\n",
       "budget                    int64\n",
       "revenue                   int64\n",
       "vote_count                int64\n",
       "vote_average            float64\n",
       "popularity              float64\n",
       "dtype: object"
      ]
     },
     "execution_count": 32,
     "metadata": {},
     "output_type": "execute_result"
    }
   ],
   "source": [
    "df.dtypes"
   ]
  },
  {
   "cell_type": "code",
   "execution_count": 33,
   "metadata": {},
   "outputs": [
    {
     "data": {
      "text/html": [
       "<div>\n",
       "<style scoped>\n",
       "    .dataframe tbody tr th:only-of-type {\n",
       "        vertical-align: middle;\n",
       "    }\n",
       "\n",
       "    .dataframe tbody tr th {\n",
       "        vertical-align: top;\n",
       "    }\n",
       "\n",
       "    .dataframe thead th {\n",
       "        text-align: right;\n",
       "    }\n",
       "</style>\n",
       "<table border=\"1\" class=\"dataframe\">\n",
       "  <thead>\n",
       "    <tr style=\"text-align: right;\">\n",
       "      <th></th>\n",
       "      <th>id</th>\n",
       "      <th>title</th>\n",
       "      <th>tagline</th>\n",
       "      <th>runtime</th>\n",
       "      <th>original_title</th>\n",
       "      <th>original_language</th>\n",
       "      <th>overview</th>\n",
       "      <th>keywords</th>\n",
       "      <th>genres</th>\n",
       "      <th>cast</th>\n",
       "      <th>crew</th>\n",
       "      <th>production_companies</th>\n",
       "      <th>production_countries</th>\n",
       "      <th>release_date</th>\n",
       "      <th>budget</th>\n",
       "      <th>revenue</th>\n",
       "      <th>vote_count</th>\n",
       "      <th>vote_average</th>\n",
       "      <th>popularity</th>\n",
       "    </tr>\n",
       "  </thead>\n",
       "  <tbody>\n",
       "    <tr>\n",
       "      <th>3519</th>\n",
       "      <td>89861</td>\n",
       "      <td>Stiff Upper Lips</td>\n",
       "      <td>NaN</td>\n",
       "      <td>99.0</td>\n",
       "      <td>Stiff Upper Lips</td>\n",
       "      <td>en</td>\n",
       "      <td>Stiff Upper Lips is a broad parody of British ...</td>\n",
       "      <td>[italy, victorian england, young woman]</td>\n",
       "      <td>[Comedy]</td>\n",
       "      <td>[Georgina Cates, Peter Ustinov, Prunella Scale...</td>\n",
       "      <td>[Jeremy Bolt, Danny Hambrook, Gary Sinyor, Gar...</td>\n",
       "      <td>[]</td>\n",
       "      <td>[United Kingdom, India]</td>\n",
       "      <td>1998-06-12</td>\n",
       "      <td>0</td>\n",
       "      <td>0</td>\n",
       "      <td>1</td>\n",
       "      <td>10.0</td>\n",
       "      <td>0.356495</td>\n",
       "    </tr>\n",
       "  </tbody>\n",
       "</table>\n",
       "</div>"
      ],
      "text/plain": [
       "         id             title tagline  runtime    original_title  \\\n",
       "3519  89861  Stiff Upper Lips     NaN     99.0  Stiff Upper Lips   \n",
       "\n",
       "     original_language                                           overview  \\\n",
       "3519                en  Stiff Upper Lips is a broad parody of British ...   \n",
       "\n",
       "                                     keywords    genres  \\\n",
       "3519  [italy, victorian england, young woman]  [Comedy]   \n",
       "\n",
       "                                                   cast  \\\n",
       "3519  [Georgina Cates, Peter Ustinov, Prunella Scale...   \n",
       "\n",
       "                                                   crew production_companies  \\\n",
       "3519  [Jeremy Bolt, Danny Hambrook, Gary Sinyor, Gar...                   []   \n",
       "\n",
       "         production_countries release_date  budget  revenue  vote_count  \\\n",
       "3519  [United Kingdom, India]   1998-06-12       0        0           1   \n",
       "\n",
       "      vote_average  popularity  \n",
       "3519          10.0    0.356495  "
      ]
     },
     "execution_count": 33,
     "metadata": {},
     "output_type": "execute_result"
    }
   ],
   "source": [
    "df[df[\"id\"] == 89861]"
   ]
  },
  {
   "cell_type": "code",
   "execution_count": 34,
   "metadata": {},
   "outputs": [],
   "source": [
    "df['keywords'] = df['keywords'].apply(lambda kws: [kw.replace('\"',\"\") for kw in kws])"
   ]
  },
  {
   "cell_type": "code",
   "execution_count": 35,
   "metadata": {},
   "outputs": [],
   "source": [
    "df['keywords'] = df['keywords'].apply(lambda kws: [] if kws == [''] else kws)\n",
    "df['genres'] = df['genres'].apply(lambda grs: [] if grs == [''] else grs)\n",
    "df['cast'] = df['cast'].apply(lambda cst: [] if cst == [''] else cst)\n",
    "df['crew'] = df['crew'].apply(lambda crw: [] if crw == [''] else crw)\n",
    "df['production_companies'] = df['production_companies'].apply(lambda pcp: [] if pcp == [''] else pcp)\n",
    "df['production_countries'] = df['production_countries'].apply(lambda pct: [] if pct == [''] else pct)"
   ]
  },
  {
   "cell_type": "code",
   "execution_count": 36,
   "metadata": {},
   "outputs": [],
   "source": [
    "df.to_csv('tmdb_5000.csv', index=False)"
   ]
  },
  {
   "cell_type": "code",
   "execution_count": null,
   "metadata": {},
   "outputs": [],
   "source": []
  }
 ],
 "metadata": {
  "kernelspec": {
   "display_name": "Python 3",
   "language": "python",
   "name": "python3"
  },
  "language_info": {
   "codemirror_mode": {
    "name": "ipython",
    "version": 3
   },
   "file_extension": ".py",
   "mimetype": "text/x-python",
   "name": "python",
   "nbconvert_exporter": "python",
   "pygments_lexer": "ipython3",
   "version": "3.9.7"
  }
 },
 "nbformat": 4,
 "nbformat_minor": 4
}
